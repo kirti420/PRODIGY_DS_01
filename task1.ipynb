{
 "cells": [
  {
   "cell_type": "code",
   "execution_count": 9,
   "metadata": {},
   "outputs": [
    {
     "name": "stdout",
     "output_type": "stream",
     "text": [
      "<class 'pandas.core.frame.DataFrame'>\n",
      "RangeIndex: 18944 entries, 0 to 18943\n",
      "Data columns (total 8 columns):\n",
      " #   Column      Non-Null Count  Dtype \n",
      "---  ------      --------------  ----- \n",
      " 0   Entity      18944 non-null  object\n",
      " 1   Code        17612 non-null  object\n",
      " 2   Year        18944 non-null  int64 \n",
      " 3   Age: 65+    18944 non-null  int64 \n",
      " 4   Age: 25-64  18944 non-null  int64 \n",
      " 5   Age: 15-24  18944 non-null  int64 \n",
      " 6   Age: 5-14   18944 non-null  int64 \n",
      " 7   Age: 0-4    18944 non-null  int64 \n",
      "dtypes: int64(6), object(2)\n",
      "memory usage: 1.2+ MB\n"
     ]
    },
    {
     "data": {
      "text/html": [
       "<div>\n",
       "<style scoped>\n",
       "    .dataframe tbody tr th:only-of-type {\n",
       "        vertical-align: middle;\n",
       "    }\n",
       "\n",
       "    .dataframe tbody tr th {\n",
       "        vertical-align: top;\n",
       "    }\n",
       "\n",
       "    .dataframe thead th {\n",
       "        text-align: right;\n",
       "    }\n",
       "</style>\n",
       "<table border=\"1\" class=\"dataframe\">\n",
       "  <thead>\n",
       "    <tr style=\"text-align: right;\">\n",
       "      <th></th>\n",
       "      <th>Entity</th>\n",
       "      <th>Code</th>\n",
       "      <th>Year</th>\n",
       "      <th>Age: 65+</th>\n",
       "      <th>Age: 25-64</th>\n",
       "      <th>Age: 15-24</th>\n",
       "      <th>Age: 5-14</th>\n",
       "      <th>Age: 0-4</th>\n",
       "    </tr>\n",
       "  </thead>\n",
       "  <tbody>\n",
       "    <tr>\n",
       "      <th>0</th>\n",
       "      <td>Afghanistan</td>\n",
       "      <td>AFG</td>\n",
       "      <td>1950</td>\n",
       "      <td>221587</td>\n",
       "      <td>2881750</td>\n",
       "      <td>1481165</td>\n",
       "      <td>1891648</td>\n",
       "      <td>1300032</td>\n",
       "    </tr>\n",
       "    <tr>\n",
       "      <th>1</th>\n",
       "      <td>Afghanistan</td>\n",
       "      <td>AFG</td>\n",
       "      <td>1951</td>\n",
       "      <td>225330</td>\n",
       "      <td>2914332</td>\n",
       "      <td>1503397</td>\n",
       "      <td>1931423</td>\n",
       "      <td>1304861</td>\n",
       "    </tr>\n",
       "    <tr>\n",
       "      <th>2</th>\n",
       "      <td>Afghanistan</td>\n",
       "      <td>AFG</td>\n",
       "      <td>1952</td>\n",
       "      <td>228860</td>\n",
       "      <td>2948438</td>\n",
       "      <td>1526378</td>\n",
       "      <td>1971722</td>\n",
       "      <td>1312385</td>\n",
       "    </tr>\n",
       "    <tr>\n",
       "      <th>3</th>\n",
       "      <td>Afghanistan</td>\n",
       "      <td>AFG</td>\n",
       "      <td>1953</td>\n",
       "      <td>232109</td>\n",
       "      <td>2982329</td>\n",
       "      <td>1548885</td>\n",
       "      <td>2008840</td>\n",
       "      <td>1324540</td>\n",
       "    </tr>\n",
       "    <tr>\n",
       "      <th>4</th>\n",
       "      <td>Afghanistan</td>\n",
       "      <td>AFG</td>\n",
       "      <td>1954</td>\n",
       "      <td>235141</td>\n",
       "      <td>3016447</td>\n",
       "      <td>1570535</td>\n",
       "      <td>2043247</td>\n",
       "      <td>1342583</td>\n",
       "    </tr>\n",
       "  </tbody>\n",
       "</table>\n",
       "</div>"
      ],
      "text/plain": [
       "        Entity Code  Year  Age: 65+  Age: 25-64  Age: 15-24  Age: 5-14  \\\n",
       "0  Afghanistan  AFG  1950    221587     2881750     1481165    1891648   \n",
       "1  Afghanistan  AFG  1951    225330     2914332     1503397    1931423   \n",
       "2  Afghanistan  AFG  1952    228860     2948438     1526378    1971722   \n",
       "3  Afghanistan  AFG  1953    232109     2982329     1548885    2008840   \n",
       "4  Afghanistan  AFG  1954    235141     3016447     1570535    2043247   \n",
       "\n",
       "   Age: 0-4  \n",
       "0   1300032  \n",
       "1   1304861  \n",
       "2   1312385  \n",
       "3   1324540  \n",
       "4   1342583  "
      ]
     },
     "execution_count": 9,
     "metadata": {},
     "output_type": "execute_result"
    }
   ],
   "source": [
    "import pandas as pd\n",
    "import numpy as np\n",
    "import matplotlib.pyplot as plt\n",
    "df=pd.read_csv(\"C:\\\\Users\\\\shiko\\\\Desktop\\\\datascienceintership\\\\population-by-age-Group.csv\")\n",
    "df.info()\n",
    "df.head()\n",
    "\n"
   ]
  },
  {
   "cell_type": "code",
   "execution_count": 10,
   "metadata": {},
   "outputs": [
    {
     "name": "stdout",
     "output_type": "stream",
     "text": [
      "          age      age_total\n",
      "0    Age: 65+   158342346339\n",
      "1  Age: 25-64  1076827294784\n",
      "2  Age: 15-24   441966965156\n",
      "3   Age: 5-14   511330020879\n",
      "4    Age: 0-4   287044131703\n"
     ]
    }
   ],
   "source": [
    "age_gs=['Age: 65+', 'Age: 25-64', 'Age: 15-24','Age: 5-14', 'Age: 0-4']\n",
    "age_total=[df[age_group].sum() for age_group in age_gs]\n",
    "dict={\"age\":age_gs,\n",
    "      \"age_total\":age_total}\n",
    "data_frame=pd.DataFrame(dict)\n",
    "print(data_frame)\n",
    "\n",
    "\n"
   ]
  },
  {
   "cell_type": "code",
   "execution_count": 11,
   "metadata": {},
   "outputs": [
    {
     "data": {
      "image/png": "[encoded data removed]",
      "text/plain": [
       "<Figure size 900x500 with 1 Axes>"
      ]
     },
     "metadata": {},
     "output_type": "display_data"
    }
   ],
   "source": [
    "plt.figure(figsize=(9,5))\n",
    "plt.bar(data_frame[\"age\"],data_frame['age_total'],color=\"black\",edgecolor=\"blue\")\n",
    "plt.xlabel(\"Age_group\")\n",
    "plt.ylabel(\"Population\")\n",
    "plt.title(\"Total population in by Age_Group\")\n",
    "plt.ticklabel_format(style='plain',axis='y')\n",
    "plt.xticks(rotation=90)\n",
    "plt.show()"
   ]
  }
 ],
 "metadata": {
  "kernelspec": {
   "display_name": "Python 3",
   "language": "python",
   "name": "python3"
  },
  "language_info": {
   "codemirror_mode": {
    "name": "ipython",
    "version": 3
   },
   "file_extension": ".py",
   "mimetype": "text/x-python",
   "name": "python",
   "nbconvert_exporter": "python",
   "pygments_lexer": "ipython3",
   "version": "3.12.5"
  }
 },
 "nbformat": 4,
 "nbformat_minor": 2
}
